{
 "cells": [
  {
   "cell_type": "markdown",
   "id": "8ce2558a-73ce-4a5f-ba7a-17dbe2bf41e3",
   "metadata": {},
   "source": [
    "这个单元格给助教，请忽略!\n",
    "\n",
    "### Score:\n",
    "\n",
    "### Comment: \n",
    "\n",
    "请实现每个 function 内容，确保最终提交的notebook是可以运行的。\n",
    "\n",
    "每一题除了必须要报告的 输出/图表，可以添加解释（中文即可）。此外可以自定义其他 function / 变量，自由添加单元格，但请确保题目中给出的 function （如第一题的 Print_values）可以正常调用。"
   ]
  },
  {
   "cell_type": "markdown",
   "id": "6ba971fe-c3bf-420f-9cc9-a36dd582d1b0",
   "metadata": {},
   "source": [
    "**Collaboration:**  \n",
    "TA-jiaming Zhang explained to me what is asked in problem set 2\n",
    "\n",
    "Zhaohan Li (my roommate) explained to me what is asked in problem set 5\n",
    "\n",
    "map和split函数学习https://blog.csdn.net/fhy567888/article/details/136822735?ops_request_misc=%257B%2522request%255Fid%2522%253A%2522B5A17EDF-B048-466C-B019-DB97F512F6BC%2522%252C%2522scm%2522%253A%252220140713.130102334..%2522%257D&request_id=B5A17EDF-B048-466C-B019-DB97F512F6BC&biz_id=0&utm_medium=distribute.pc_search_result.none-task-blog-2~all~sobaiduend~default-1-136822735-null-null.142^v100^pc_search_result_base8&utm_term=map%E5%92%8Csplit&spm=1018.2226.3001.4187\n",
    "\n",
    "zip函数学习https://blog.csdn.net/Seven_Cloud/article/details/133359544?ops_request_misc=%257B%2522request%255Fid%2522%253A%25225173F2C3-0BF7-4CA7-87AE-74054FB32B5F%2522%252C%2522scm%2522%253A%252220140713.130102334..%2522%257D&request_id=5173F2C3-0BF7-4CA7-87AE-74054FB32B5F&biz_id=0&utm_medium=distribute.pc_search_result.none-task-blog-2~all~top_positive~default-2-133359544-null-null.142^v100^pc_search_result_base8&utm_term=zip%E5%87%BD%E6%95%B0python%E4%BD%9C%E7%94%A8&spm=1018.2226.3001.4187"
   ]
  },
  {
   "cell_type": "markdown",
   "id": "b8a55582-2d7b-452b-a2bf-26cf8c139de7",
   "metadata": {},
   "source": [
    "# 1. Flowchart \n",
    "\n",
    "Write a function `Print_values` with arguments `a`, `b`, and `c` to reflect the following flowchart. Here the purple parallelogram operator on a list `[x, y, z]` is to compute and print `x+y-10z`. Try your output with some random `a`, `b`, and `c` values. Report your output when `a = 10, b = 5, c = 1`."
   ]
  },
  {
   "cell_type": "code",
   "execution_count": null,
   "id": "2865e4d5-439e-4f39-a8bd-df653f893045",
   "metadata": {},
   "outputs": [],
   "source": [
    "# 1, Flowchart\n",
    "#输入数据\n",
    "value_a= float(input(\"Please input a value_a: \"))\n",
    "value_b= float(input(\"Please input a value_b: \"))\n",
    "value_c= float(input(\"Please input a value_c: \"))\n",
    "#检查输入的值\n",
    "print(\"your enter value is a=\"+str(value_a)+\",b=\"+str(value_b)+\",c=\"+str(value_c))\n",
    "if value_a > value_b :  #逻辑判断\n",
    "    if value_b > value_c:\n",
    "        print(value_a+value_b-10*value_c)\n",
    "    else:\n",
    "        if value_a > value_c:\n",
    "            print(value_a+value_c-10*value_b )\n",
    "        else:\n",
    "            print(value_c+value_a-10*value_b   )\n",
    "else:\n",
    "    if value_b > value_c:\n",
    "        if value_a > value_c:\n",
    "            print(value_b+value_a-10*value_c  )\n",
    "        else:\n",
    "            print(value_b+value_c-10*value_a )  \n",
    "    else:\n",
    "        print(value_c+value_b-10*value_a)"
   ]
  },
  {
   "cell_type": "markdown",
   "id": "d225e625-14fa-4000-bea2-1d71b79809f9",
   "metadata": {},
   "source": [
    "Report your output when `a = 10, b = 5, c = 1`:  5"
   ]
  },
  {
   "cell_type": "markdown",
   "id": "995a65f2-d350-435f-ba37-a52bec167da2",
   "metadata": {},
   "source": [
    "输入数据，然后先比较a,b。然后比较c,d。输入a = 10, b = 5, c = 1，输出结果为5。"
   ]
  },
  {
   "cell_type": "markdown",
   "id": "b5a0ac60-c290-46aa-94bc-79f8a17c6ee8",
   "metadata": {},
   "source": [
    "# 2. Continuous ceiling function\n",
    "\n",
    "Given a list with `N` positive integers. For every element `x` of the list, find the value of continuous ceiling function defined as `F(x) = F(ceil(x/3)) + 2x`, where `F(1) = 1`. "
   ]
  },
  {
   "cell_type": "code",
   "execution_count": 4,
   "id": "cd959fb2-74e8-4aa6-8e7f-81129c68fac2",
   "metadata": {},
   "outputs": [
    {
     "name": "stdin",
     "output_type": "stream",
     "text": [
      "enter a number list(数字由英文逗号隔开） 32,46,54\n"
     ]
    },
    {
     "name": "stdout",
     "output_type": "stream",
     "text": [
      "F(32) = 99.0\n",
      "F(46) = 141.0\n",
      "F(54) = 161.0\n"
     ]
    }
   ],
   "source": [
    "#2. Continuous ceiling function   TA-jiaming Zhang explained to me what is asked in problem set 2\n",
    "#定义函数\n",
    "import numpy as np\n",
    "def F(x):\n",
    "    if x==1:\n",
    "        return 1\n",
    "    else:\n",
    "        return F(np.ceil(x/3))+2*x\n",
    "\n",
    "#输入数据\n",
    "user_input= input(\"enter a number list(数字由英文逗号隔开）\")\n",
    "#转换成列表\n",
    "numbers = list(map(int, user_input.split(',')))   \n",
    "\n",
    "# 计算每个元素 x 对应的 F(x) 并存储结果\n",
    "results = [F(x) for x in numbers]\n",
    "\n",
    "# 输出结果\n",
    "for x, result in zip(numbers, results):   \n",
    "    print(f\"F({x}) = {result}\")\n"
   ]
  },
  {
   "cell_type": "markdown",
   "id": "e9864bc4-dad9-4035-b244-8fe1588b87fd",
   "metadata": {},
   "source": [
    "First, give a function F(x) and use the if loop. Then,\" numbers = list(map(int, user_input.split(',')))\" uses the map and split function to transfer user input to the list so that we can run F(x) one by one. when input (32,46,54) ,result is F(32)=99,F(46)=141,F(54)=161."
   ]
  },
  {
   "cell_type": "markdown",
   "id": "46fe8561-0e4e-4b62-8bbe-b92da52ca6b4",
   "metadata": {},
   "source": [
    "# 3. Dice rolling\n",
    "\n",
    "**3.1** Given `10` dice each with `6` faces, numbered from `1` to `6`. Write a function `Find_number_of_ways` to find the number of ways to get sum `x`, defined as the sum of values on each face when all the dice are thrown."
   ]
  },
  {
   "cell_type": "code",
   "execution_count": 5,
   "id": "8871ceef-415a-4890-9701-dcb41f2dc39f",
   "metadata": {},
   "outputs": [
    {
     "name": "stdout",
     "output_type": "stream",
     "text": [
      "[1, 10, 55, 220, 715, 2002, 4995, 11340, 23760, 46420, 85228, 147940, 243925, 383470, 576565, 831204, 1151370, 1535040, 1972630, 2446300, 2930455, 3393610, 3801535, 4121260, 4325310, 4395456, 4325310, 4121260, 3801535, 3393610, 2930455, 2446300, 1972630, 1535040, 1151370, 831204, 576565, 383470, 243925, 147940, 85228, 46420, 23760, 11340, 4995, 2002, 715, 220, 55, 10, 1]\n",
      "最大的方式数量是 4395456，对应的和是 35\n"
     ]
    }
   ],
   "source": [
    "# 3.1 Dice rolling\n",
    "# 定义函数找到和为x的方式数量\n",
    "def Find_number_of_ways(dice,  target_sum):\n",
    "    if dice == 0:\n",
    "        if target_sum == 0:  #如果和为0，筛子数为0，则返回1，有一种情况\n",
    "            return 1\n",
    "        else:     #如果和不为0，筛子数为0，则返回0，没有这种情况\n",
    "            0\n",
    "    if target_sum < dice or target_sum > dice * 6:    #如果和小于筛子数或者和大于筛子数与最大面数乘积，返回0，也不存在这种情况\n",
    "        return 0\n",
    "\n",
    "    total_ways = 0\n",
    "    for i in range(1, 7):\n",
    "        total_ways += Find_number_of_ways(dice - 1, target_sum - i)   #递归函数，Find_number_of_ways（0，target_sum)是递归终止。\n",
    "    return total_ways\n",
    "\n"
   ]
  },
  {
   "cell_type": "markdown",
   "id": "b70fc214-8895-4cfb-aea7-f880b33c22df",
   "metadata": {},
   "source": [
    "**3.2** Count the number of ways for any `x` from `10` to `60`, assign the number of ways to a list called `Number_of_ways`, so which `x` yields the maximum of `Number_of_ways`?"
   ]
  },
  {
   "cell_type": "code",
   "execution_count": null,
   "id": "9867a88b-be57-4424-8c18-b2a32e26af72",
   "metadata": {},
   "outputs": [],
   "source": [
    "# 3.2 \n",
    "# 计算从10到60的方式数量\n",
    "dice = 10  # 骰子的数量\n",
    "Number_of_ways = []\n",
    "\n",
    "for x in range(10, 61):  # 遍历 x 从 10 到 60\n",
    "    ways = Find_number_of_ways(dice,  x)\n",
    "    Number_of_ways.append(ways)\n",
    "print(Number_of_ways)\n",
    "# 找到最大方式数量以及对应的x\n",
    "max_ways = max(Number_of_ways)   #找最大值\n",
    "x_with_max_ways = 10 + Number_of_ways.index(max_ways)  # +10 是因为 x 从 10 开始计算\n",
    "\n",
    "print(f\"最大的方式数量是 {max_ways}，对应的和是 {x_with_max_ways}\")\n"
   ]
  },
  {
   "cell_type": "markdown",
   "id": "1793c8eb-81b4-4953-9e8c-f2d82cb64114",
   "metadata": {},
   "source": [
    "运行结果为最大的方式数量是 4395456，对应的和是 35"
   ]
  },
  {
   "cell_type": "markdown",
   "id": "4043d860-f4e2-4d98-8a57-7c5abc7cd9de",
   "metadata": {},
   "source": [
    "解释：3.1：定义函数，采用迭代计算的方法，依次从1到6中减少一个数字并且在target_sum中减小对应的值。然后进行第二次迭代，第三次迭代···直到当dice（骰子数）为0，判断target_sum是都恰好为0，若是，则发现一种方法；若不是，则返回0，这条路走不通。如果target_sum小于骰子数或者大于6乘以骰子数（即最大值）都不行，返回0.\n",
    "\n",
    "3.2：对10到60的target_sum进行遍历，带入方程中寻找对应的路径数，然后用max函数找到这些路径数中的最大值与对应的x。"
   ]
  },
  {
   "cell_type": "markdown",
   "id": "04897a93-2682-47ed-b84d-ad3aae636957",
   "metadata": {},
   "source": [
    "# 4. Dynamic programming\n",
    "\n",
    "**4.1 [5 points]** Write a function `Random_integer` to fill an array of `N` elements by randomly selecting integers from `0` to `10`."
   ]
  },
  {
   "cell_type": "code",
   "execution_count": null,
   "id": "6955dc69-e78e-45ef-a338-e0c463f0a5b4",
   "metadata": {},
   "outputs": [],
   "source": [
    "#4. Dynamic programming（第三题代码为完整代码，方便老师或TA运行）\n",
    "import random\n",
    "import matplotlib.pyplot as plt\n",
    "\n",
    "# 生成包含 N 个随机整数的数组，范围从 0 到 10\n",
    "def Random_integer(N):\n",
    "    return [random.randint(0, 10) for _ in range(N)]    #下划线代表是个虚值，只需要重复N次就可以了\n",
    "    "
   ]
  },
  {
   "cell_type": "markdown",
   "id": "9e26bea6-d11d-41f0-a0f9-36134ebe21b0",
   "metadata": {},
   "source": [
    "**4.2 [15 points]** Write a function `Sum_averages` to compute the sum of the average of all subsets of the array. For example, given an array of `[1, 2, 3]`, you `Sum_averages` function should compute the sum of: average of `[1]`, average of `[2]`, average of `[3]`,  average of `[1, 2]`, average of `[1, 3]`, average of `[2, 3]`, and average of `[1, 2, 3]`.  "
   ]
  },
  {
   "cell_type": "code",
   "execution_count": null,
   "id": "dab8a233-41fc-477d-8fb8-c7fb52df4e99",
   "metadata": {},
   "outputs": [],
   "source": [
    "# 优化的 Sum_averages，直接计算所有子集平均值和\n",
    "def Sum_averages(array):\n",
    "    N = len(array)\n",
    "    if N == 0:\n",
    "        return 0\n",
    "    # 计算数组元素的总和\n",
    "    total_sum = sum(array)\n",
    "    # 计算所有子集的平均值和\n",
    "    return (total_sum * (2**(N-1))) / N     #运算子集平均值的和的公式"
   ]
  },
  {
   "cell_type": "markdown",
   "id": "4c749e64-f0a9-4511-a23c-09f1bc41c2c7",
   "metadata": {},
   "source": [
    "**4.3 [5 points]** Call `Sum_averages` with `N` increasing from `1` to `100`, assign the output to a list called `Total_sum_averages`. Plot `Total_sum_averages`, describe what you see.\n"
   ]
  },
  {
   "cell_type": "code",
   "execution_count": 17,
   "id": "419bfaeb-90fb-4f9d-8cbd-c17c98c40c53",
   "metadata": {},
   "outputs": [
    {
     "data": {
      "image/png": "[encoded data removed]",
      "text/plain": [
       "<Figure size 1000x600 with 1 Axes>"
      ]
     },
     "metadata": {},
     "output_type": "display_data"
    }
   ],
   "source": [
    "#4.3 Dynamic programming\n",
    "import random\n",
    "import matplotlib.pyplot as plt\n",
    "\n",
    "# 生成包含 N 个随机整数的数组，范围从 0 到 10\n",
    "def Random_integer(N):\n",
    "    return [random.randint(0, 10) for _ in range(N)]    #下划线代表是个虚值，只需要重复N次就可以了\n",
    "    \n",
    "\n",
    "# 优化的 Sum_averages，直接计算所有子集平均值和\n",
    "def Sum_averages(array):\n",
    "    N = len(array)\n",
    "    if N == 0:\n",
    "        return 0\n",
    "    # 计算数组元素的总和\n",
    "    total_sum = sum(array)\n",
    "    # 计算所有子集的平均值和\n",
    "    return (total_sum * (2**(N-1))) / N     #运算子集平均值的和的公式\n",
    "\n",
    "# 存储每个 N 对应的 Sum_averages 结果\n",
    "Total_sum_averages = []\n",
    "\n",
    "# 调用 Sum_averages，N 从 1 到 100\n",
    "for N in range(1, 101):\n",
    "    random_array = Random_integer(N)\n",
    "    total_sum = Sum_averages(random_array)\n",
    "    Total_sum_averages.append(total_sum)\n",
    "\n",
    "\n",
    "# 绘制结果\n",
    "plt.figure(figsize=(10, 6))\n",
    "plt.plot(range(1, 101), Total_sum_averages, marker='o')\n",
    "plt.xlabel('N ')\n",
    "plt.ylabel('Aversge of Sum')\n",
    "plt.grid()\n",
    "plt.show()\n"
   ]
  },
  {
   "cell_type": "markdown",
   "id": "70389eb3-e834-45aa-ab8d-6ed12548bf66",
   "metadata": {},
   "source": [
    "平均值在0-80都比较稳定，接近0，但是从85开始陡峭上升，100时停留在3.00左右。这与公式中的2**（N-1)有关。"
   ]
  },
  {
   "cell_type": "markdown",
   "id": "f33c7e0e-4dc9-4740-a590-00d549fce44e",
   "metadata": {},
   "source": [
    "# 5. Path counting\n",
    "\n",
    "**5.1 [5 points]** Create a matrix with `N` rows and `M` columns, fill the right-bottom corner and top-left corner cells with `1`, and randomly fill the rest of matrix with integer `0` or `1`."
   ]
  },
  {
   "cell_type": "code",
   "execution_count": null,
   "id": "a30b7dde-d73b-4b27-9f81-aaa97f83a457",
   "metadata": {},
   "outputs": [],
   "source": [
    "#5. Path counting       Zhaohan Li (my roommate) explained to me what is asked in problem set 5（第三题代码为完整代码，方便老师或TA运行）\n",
    "import random\n",
    "def create_matrix(N, M):\n",
    "\n",
    "    matrix = [[0 for _ in range(M)]for _ in range(N)]   #建立一个空的二维矩阵\n",
    "    for i in range(N):\n",
    "        for j in range(M):\n",
    "            matrix[i][j]=random.randint(0,1)    #在每行进行0，1的随机填充\n",
    "    \n",
    "  \n",
    "    matrix[0][0] = 1         \n",
    "    matrix[N-1][M-1] = 1               # 设置左上角和右下角为 1\n",
    "    \n",
    "    return matrix\n",
    "\n",
    "print(\" 实验(10，8)的结果  \" + str(create_matrix(10,8)) )   #试验"
   ]
  },
  {
   "cell_type": "markdown",
   "id": "f7100fcb-0b62-44a3-91aa-ba4d0a38e685",
   "metadata": {},
   "source": [
    "**5.2 [25 points]** Consider a cell marked with `0` as a blockage or dead-end, and a cell marked with `1` is good to go. Write a function `Count_path` to count the total number of paths to reach the right-bottom corner cell from the top-left corner cell. \n",
    "\n",
    "**Notice:** for a given cell, you are **only allowed** to move either rightward or downward."
   ]
  },
  {
   "cell_type": "code",
   "execution_count": null,
   "id": "c6c5a2ef-e4fe-407d-9211-40bbb842b5dc",
   "metadata": {},
   "outputs": [],
   "source": [
    "def Count_path(matrix): #定义函数  \n",
    "    N = len(matrix)\n",
    "    M = len(matrix[0])\n",
    "    # 创建一个与矩阵大小相同的路径计数矩阵，下划线表示虚值\n",
    "    dp = [[0] * M for _ in range(N)]\n",
    "    \n",
    "    # 初始化左上角\n",
    "    dp[0][0] = 1\n",
    "    \n",
    "    # 填充第一列的路径数\n",
    "    for i in range(1, N):\n",
    "        if matrix[i][0] == 1:\n",
    "            dp[i][0] = dp[i-1][0]\n",
    "    \n",
    "    # 填充第一行的路径数\n",
    "    for j in range(1, M):\n",
    "        if matrix[0][j] == 1:\n",
    "            dp[0][j] = dp[0][j-1]\n",
    "    \n",
    "    # 填充其余位置的路径数\n",
    "    for i in range(1, N):\n",
    "        for j in range(1, M):\n",
    "            if matrix[i][j] == 1:\n",
    "                dp[i][j] = dp[i-1][j] + dp[i][j-1]\n",
    "    \n",
    "    # 右下角的值就是到达右下角的所有路径数\n",
    "    return dp[N-1][M-1]\n"
   ]
  },
  {
   "cell_type": "markdown",
   "id": "f6f6c73b-5f5f-425e-809d-6b0f87acf744",
   "metadata": {},
   "source": [
    "**5.3 [5 points]** Let `N = 10, M = 8`, run `Count_path` for `1000` times, each time the matrix (except the right-bottom corner and top-left corner cells, which remain being `1`) is re-filled with integer `0` or `1` randomly, report the mean of total number of paths from the `1000` runs."
   ]
  },
  {
   "cell_type": "code",
   "execution_count": 3,
   "id": "51f18a7c-8cb3-4ceb-bc3e-672d32cc9067",
   "metadata": {},
   "outputs": [
    {
     "name": "stdout",
     "output_type": "stream",
     "text": [
      " 实验(10，8)的结果  [[1, 1, 0, 1, 0, 0, 0, 1], [1, 1, 0, 1, 0, 0, 1, 1], [1, 1, 1, 1, 0, 1, 0, 1], [0, 0, 1, 1, 0, 0, 1, 0], [1, 1, 0, 1, 1, 0, 1, 0], [1, 0, 0, 1, 0, 0, 0, 1], [0, 0, 0, 0, 1, 0, 1, 1], [0, 1, 0, 0, 0, 1, 1, 1], [1, 1, 1, 1, 0, 0, 1, 1], [0, 1, 0, 0, 0, 0, 0, 1]]\n",
      "your paths 1000 times , get the answer  0.338\n"
     ]
    }
   ],
   "source": [
    "#5. Path counting       Zhaohan Li (my roommate) explained to me what is asked in problem set 5（第三题代码为完整代码，方便老师或TA运行）\n",
    "import random\n",
    "def create_matrix(N, M):\n",
    "\n",
    "    matrix = [[0 for _ in range(M)]for _ in range(N)]   #建立一个空的二维矩阵\n",
    "    for i in range(N):\n",
    "        for j in range(M):\n",
    "            matrix[i][j]=random.randint(0,1)    #在每行进行0，1的随机填充\n",
    "    \n",
    "  \n",
    "    matrix[0][0] = 1         \n",
    "    matrix[N-1][M-1] = 1               # 设置左上角和右下角为 1\n",
    "    \n",
    "    return matrix\n",
    "\n",
    "print(\" 实验(10，8)的结果  \" + str(create_matrix(10,8)) )   #试验\n",
    "\n",
    "\n",
    "def Count_path(matrix): #定义函数  \n",
    "    N = len(matrix)\n",
    "    M = len(matrix[0])\n",
    "    # 创建一个与矩阵大小相同的路径计数矩阵，下划线表示虚值\n",
    "    dp = [[0] * M for _ in range(N)]\n",
    "    \n",
    "    # 初始化左上角\n",
    "    dp[0][0] = 1\n",
    "    \n",
    "    # 填充第一列的路径数\n",
    "    for i in range(1, N):\n",
    "        if matrix[i][0] == 1:\n",
    "            dp[i][0] = dp[i-1][0]\n",
    "    \n",
    "    # 填充第一行的路径数\n",
    "    for j in range(1, M):\n",
    "        if matrix[0][j] == 1:\n",
    "            dp[0][j] = dp[0][j-1]\n",
    "    \n",
    "    # 填充其余位置的路径数\n",
    "    for i in range(1, N):\n",
    "        for j in range(1, M):\n",
    "            if matrix[i][j] == 1:\n",
    "                dp[i][j] = dp[i-1][j] + dp[i][j-1]\n",
    "    \n",
    "    # 右下角的值就是到达右下角的所有路径数\n",
    "    return dp[N-1][M-1]\n",
    "#5.3\n",
    "average_paths = 0\n",
    "for _ in range(1001):  #运行一千次\n",
    "    matrix=create_matrix(10,8)\n",
    "    paths = Count_path(matrix)\n",
    "    average_paths +=paths   #计算总和\n",
    "print(\"your paths 1000 times , get the answer \" ,average_paths/1000)   \n"
   ]
  },
  {
   "cell_type": "markdown",
   "id": "7729cb5f-7901-4870-b3b2-9eb8aa52eb33",
   "metadata": {},
   "source": [
    "实验(10，8)的结果  [[1, 1, 0, 1, 0, 0, 0, 1], [1, 1, 0, 1, 0, 0, 1, 1], [1, 1, 1, 1, 0, 1, 0, 1], [0, 0, 1, 1, 0, 0, 1, 0], [1, 1, 0, 1, 1, 0, 1, 0], [1, 0, 0, 1, 0, 0, 0, 1], [0, 0, 0, 0, 1, 0, 1, 1], [0, 1, 0, 0, 0, 1, 1, 1], [1, 1, 1, 1, 0, 0, 1, 1], [0, 1, 0, 0, 0, 0, 0, 1]]\r\n",
    "your paths 1000 times , get the answer  0.338"
   ]
  },
  {
   "cell_type": "markdown",
   "id": "d59dbb0f-b893-4527-8eba-e1a0c82f6c1e",
   "metadata": {},
   "source": [
    "解释：5.1，先创造一个空的二位矩阵，然后用一个两层for循环来填充随机数。最后把左上和右下改成1.\n",
    "5.2，创建一个与矩阵大小相同的路径计数矩阵，依次填充第一列和第一行的路经数。最后改变其他位置的路径书，\n",
    "5.3，运行1000次后，获得的平均值为0.338，每次运行的结果不一样，因为随机数列的存在。"
   ]
  }
 ],
 "metadata": {
  "kernelspec": {
   "display_name": "Python 3 (ipykernel)",
   "language": "python",
   "name": "python3"
  },
  "language_info": {
   "codemirror_mode": {
    "name": "ipython",
    "version": 3
   },
   "file_extension": ".py",
   "mimetype": "text/x-python",
   "name": "python",
   "nbconvert_exporter": "python",
   "pygments_lexer": "ipython3",
   "version": "3.12.4"
  }
 },
 "nbformat": 4,
 "nbformat_minor": 5
}
